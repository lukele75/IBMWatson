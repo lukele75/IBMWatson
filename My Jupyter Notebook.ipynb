{
    "cells": [
        {
            "metadata": {},
            "cell_type": "markdown",
            "source": "# My Jupyter Notebook on IBM Data Science Experience"
        },
        {
            "metadata": {
                "collapsed": true
            },
            "cell_type": "markdown",
            "source": "**Chin Ching Lee**  \nI am currently a compliance officer in a local bank in Hong Kong.\nMy desired occupation would be a data scientist."
        },
        {
            "metadata": {},
            "cell_type": "markdown",
            "source": "_I am interested in data science mainly because it is a universal skillset that apply to every different sector._"
        },
        {
            "metadata": {},
            "cell_type": "markdown",
            "source": "### I will do a simple py3 coding in cell 5.\n"
        },
        {
            "metadata": {},
            "cell_type": "code",
            "source": "x = 1\nx = x + 1\nprint(x)",
            "execution_count": 6,
            "outputs": [
                {
                    "output_type": "stream",
                    "text": "2\n",
                    "name": "stdout"
                }
            ]
        },
        {
            "metadata": {},
            "cell_type": "markdown",
            "source": "1. numbered list 1\n2. numbered list 2\n3. numbered list 3\n\n| TEST.         | TEST.2        | FUN   |\n| ------------- |:-------------:| -----:|\n| 1             | 5             | 7     |\n| 2             | 6             | 8     |\n| 3             | 7             | 9     |\n\n\n[I am a hyperlink for google](https://www.google.com)\n\n"
        }
    ],
    "metadata": {
        "kernelspec": {
            "name": "python3",
            "display_name": "Python 3.6",
            "language": "python"
        },
        "language_info": {
            "name": "python",
            "version": "3.6.9",
            "mimetype": "text/x-python",
            "codemirror_mode": {
                "name": "ipython",
                "version": 3
            },
            "pygments_lexer": "ipython3",
            "nbconvert_exporter": "python",
            "file_extension": ".py"
        }
    },
    "nbformat": 4,
    "nbformat_minor": 1
}